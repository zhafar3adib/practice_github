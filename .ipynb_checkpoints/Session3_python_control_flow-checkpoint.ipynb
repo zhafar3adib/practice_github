{
 "cells": [
  {
   "cell_type": "code",
   "execution_count": 1,
   "id": "2ac5709e-dba7-4412-bf9d-faaed5f95da2",
   "metadata": {},
   "outputs": [],
   "source": [
    "from datetime import datetime\n",
    "import time\n",
    "import math\n",
    "import statistics"
   ]
  },
  {
   "cell_type": "code",
   "execution_count": 2,
   "id": "694f1fe4-fe1c-4f84-97a7-f43f3a4dd6cf",
   "metadata": {},
   "outputs": [
    {
     "data": {
      "text/plain": [
       "5.5"
      ]
     },
     "execution_count": 2,
     "metadata": {},
     "output_type": "execute_result"
    }
   ],
   "source": [
    "nilai_siswa = [1,2,3,4,5,6,7,8,9,10]\n",
    "total = 0 \n",
    "counter = 0\n",
    "while counter < len(nilai_siswa):\n",
    "    total = total + nilai_siswa[counter]\n",
    "    counter = counter + 1\n",
    "total / len(nilai_siswa)"
   ]
  },
  {
   "cell_type": "code",
   "execution_count": 3,
   "id": "b0e42a67-2f44-4578-942f-c3b826884fdc",
   "metadata": {},
   "outputs": [
    {
     "data": {
      "text/plain": [
       "5.5"
      ]
     },
     "execution_count": 3,
     "metadata": {},
     "output_type": "execute_result"
    }
   ],
   "source": [
    "statistics.mean(nilai_siswa)"
   ]
  },
  {
   "cell_type": "code",
   "execution_count": 5,
   "id": "f1b74a49-05eb-41f5-8e3d-ce0afa5c90ce",
   "metadata": {},
   "outputs": [
    {
     "data": {
      "text/plain": [
       "55"
      ]
     },
     "execution_count": 5,
     "metadata": {},
     "output_type": "execute_result"
    }
   ],
   "source": [
    "jumlah = 0 \n",
    "for i in nilai_siswa: ##i adalah variabel sementara, jadi bebas mau dinamain apa aja dan cuma bisa dipake di dalam for loop\n",
    "    jumlah = jumlah+i\n",
    "jumlah"
   ]
  },
  {
   "cell_type": "code",
   "execution_count": 7,
   "id": "a2f8b26f-ae57-4137-b533-3089ee1b04cf",
   "metadata": {},
   "outputs": [
    {
     "name": "stdout",
     "output_type": "stream",
     "text": [
      "1 adalah bilangan ganjil\n",
      "2 adalah bilangan genap\n",
      "3 adalah bilangan ganjil\n",
      "4 adalah bilangan genap\n",
      "5 adalah bilangan ganjil\n",
      "6 adalah bilangan genap\n",
      "7 adalah bilangan ganjil\n",
      "8 adalah bilangan genap\n",
      "9 adalah bilangan ganjil\n",
      "10 adalah bilangan genap\n"
     ]
    }
   ],
   "source": [
    "for number in range(1,11):\n",
    "    if number % 2 == 0:\n",
    "        print(f'{number} adalah bilangan genap')\n",
    "    else : \n",
    "        print(f'{number} adalah bilangan ganjil')"
   ]
  },
  {
   "cell_type": "code",
   "execution_count": 8,
   "id": "916a2c6a-2dc6-4274-ab6f-50ad9b5ed125",
   "metadata": {},
   "outputs": [
    {
     "name": "stdout",
     "output_type": "stream",
     "text": [
      "masih proses ke 1\n",
      "masih proses ke 2\n",
      "masih proses ke 3\n",
      "masih proses ke 4\n",
      "masih proses ke 5\n",
      "masih proses ke 6\n",
      "masih proses ke 7\n",
      "masih proses ke 8\n",
      "masih proses ke 9\n",
      "masih proses ke 10\n",
      "data sudah ready\n"
     ]
    }
   ],
   "source": [
    "data_ready = False\n",
    "counter = 0\n",
    "while True:\n",
    "    if data_ready:\n",
    "        print('data sudah ready')\n",
    "        break\n",
    "    else:\n",
    "        counter = counter+1\n",
    "        print(f'masih proses ke {counter}')\n",
    "        if counter == 10:\n",
    "            data_ready = True"
   ]
  },
  {
   "cell_type": "code",
   "execution_count": 9,
   "id": "9add81bd-66f3-4cf7-b092-bee6e321a1e4",
   "metadata": {},
   "outputs": [
    {
     "name": "stdout",
     "output_type": "stream",
     "text": [
      "1 adalah bilangan ganjil\n",
      "2 adalah bilangan genap\n",
      "3 adalah bilangan ganjil\n",
      "4 adalah bilangan genap\n",
      "5 adalah bilangan ganjil\n",
      "6 adalah bilangan genap\n",
      "7 adalah bilangan ganjil\n",
      "8 adalah bilangan genap\n",
      "9 adalah bilangan ganjil\n",
      "10 adalah bilangan genap\n",
      "11 adalah bilangan ganjil\n",
      "12 adalah bilangan genap\n",
      "13 adalah bilangan ganjil\n",
      "14 adalah bilangan genap\n",
      "cukup sampe disini dulu\n"
     ]
    }
   ],
   "source": [
    "for number in range(1,21):\n",
    "    if number == 15:\n",
    "        print('cukup sampe disini dulu')\n",
    "        break\n",
    "    if number % 2 == 0:\n",
    "        print(f'{number} adalah bilangan genap')\n",
    "    else : \n",
    "        print(f'{number} adalah bilangan ganjil')"
   ]
  },
  {
   "cell_type": "code",
   "execution_count": 10,
   "id": "da142cca-ccea-4442-9f90-481ec840b4a6",
   "metadata": {},
   "outputs": [
    {
     "name": "stdout",
     "output_type": "stream",
     "text": [
      "2 adalah bilangan genap\n",
      "4 adalah bilangan genap\n",
      "6 adalah bilangan genap\n",
      "8 adalah bilangan genap\n",
      "10 adalah bilangan genap\n",
      "12 adalah bilangan genap\n",
      "14 adalah bilangan genap\n",
      "16 adalah bilangan genap\n",
      "18 adalah bilangan genap\n",
      "20 adalah bilangan genap\n"
     ]
    }
   ],
   "source": [
    "for number in range(1,21):\n",
    "    if number % 2 == 0:\n",
    "        print(f'{number} adalah bilangan genap')\n",
    "    else : \n",
    "        continue ##skip yang ga sesuai dengan kondisi if diatas"
   ]
  },
  {
   "cell_type": "code",
   "execution_count": 11,
   "id": "4986d16e-9a76-46e5-8e27-b404ec11d4e0",
   "metadata": {},
   "outputs": [
    {
     "name": "stdout",
     "output_type": "stream",
     "text": [
      "*****\n"
     ]
    }
   ],
   "source": [
    "stars = ''\n",
    "for i in range(5):\n",
    "    stars = stars+'*'\n",
    "print(stars)"
   ]
  },
  {
   "cell_type": "code",
   "execution_count": 12,
   "id": "dacfd978-7001-47de-870f-b183111a16a2",
   "metadata": {},
   "outputs": [
    {
     "name": "stdout",
     "output_type": "stream",
     "text": [
      "*\n",
      "*\n",
      "*\n",
      "*\n",
      "*\n",
      "\n"
     ]
    }
   ],
   "source": [
    "stars = ''\n",
    "for i in range(5):\n",
    "    stars = stars+'*\\n'\n",
    "print(stars)"
   ]
  },
  {
   "cell_type": "code",
   "execution_count": 33,
   "id": "a1eeb4c4-eec1-44d1-9bab-8e9abe763e95",
   "metadata": {},
   "outputs": [
    {
     "name": "stdout",
     "output_type": "stream",
     "text": [
      "*****\n",
      "*****\n",
      "*****\n",
      "*****\n",
      "*****\n",
      "\n"
     ]
    }
   ],
   "source": [
    "stars= ''\n",
    "size = 5\n",
    "for i in range(size):\n",
    "    for j in range(size):\n",
    "        stars = stars+'*'\n",
    "    stars=stars+'\\n'\n",
    "print(stars)"
   ]
  },
  {
   "cell_type": "code",
   "execution_count": 32,
   "id": "21c0943e-4406-4d41-a134-e5503505d18c",
   "metadata": {},
   "outputs": [
    {
     "name": "stdout",
     "output_type": "stream",
     "text": [
      "*****\n",
      "*****\n",
      "*****\n",
      "*****\n",
      "*****\n",
      "\n"
     ]
    }
   ],
   "source": [
    "stars= ''\n",
    "size = 5\n",
    "size2 = 6\n",
    "for i in range(size):\n",
    "    for j in range(size):\n",
    "        stars = stars+'*'\n",
    "    stars=stars+'\\n'\n",
    "print(stars)"
   ]
  },
  {
   "cell_type": "code",
   "execution_count": 93,
   "id": "502cf743-2ec0-494e-a37b-a2fac235a143",
   "metadata": {},
   "outputs": [
    {
     "name": "stdout",
     "output_type": "stream",
     "text": [
      "*\n",
      "**\n",
      "***\n",
      "****\n",
      "*****\n",
      "\n"
     ]
    }
   ],
   "source": [
    "stars= ''\n",
    "size = 5\n",
    "for i in range(size):\n",
    "    for j in range(1+i):\n",
    "        stars = stars+'*'\n",
    "    stars=stars+'\\n'\n",
    "print(stars)"
   ]
  },
  {
   "cell_type": "markdown",
   "id": "9ee59b45-42b7-4ce3-892a-358c7dd30798",
   "metadata": {},
   "source": [
    "**SOAL**"
   ]
  },
  {
   "cell_type": "code",
   "execution_count": 90,
   "id": "c299ec52-3c2c-4c94-a0e0-a54ba2832aec",
   "metadata": {},
   "outputs": [
    {
     "name": "stdout",
     "output_type": "stream",
     "text": [
      "*****\n",
      "****\n",
      "***\n",
      "**\n",
      "*\n",
      "**\n",
      "***\n",
      "****\n",
      "*****\n",
      "\n"
     ]
    }
   ],
   "source": [
    "stars= ''\n",
    "size = 5\n",
    "for i in range(size):\n",
    "    for j in range(size):\n",
    "        stars = stars+'*'\n",
    "    stars=stars+'\\n'\n",
    "    size = size-1\n",
    "    if size == 1:\n",
    "        size = 5\n",
    "        for i in range(size):\n",
    "            for j in range(i+1):\n",
    "                stars = stars+'*'\n",
    "            stars=stars+'\\n'\n",
    "        break\n",
    "print(stars)"
   ]
  },
  {
   "cell_type": "code",
   "execution_count": 140,
   "id": "1245d79e-d487-4efb-88df-f5bcab57b372",
   "metadata": {},
   "outputs": [
    {
     "name": "stdout",
     "output_type": "stream",
     "text": [
      "*\n",
      "*\n",
      "***\n",
      "*****\n",
      "*******\n",
      "*********\n",
      "***\n",
      "*****\n",
      "*******\n",
      "*********\n",
      "\n"
     ]
    }
   ],
   "source": [
    "stars= ''\n",
    "size = 10\n",
    "for i in range(1,size,2):\n",
    "    for j in range(i):\n",
    "        stars = stars+'*'\n",
    "    stars=stars+'\\n'\n",
    "#size = size - 2\n",
    "    if size == 10:\n",
    "        for i in range(1,size,2):\n",
    "            size = size - 2\n",
    "            for j in range(i):\n",
    "                stars = stars+'*'\n",
    "            stars=stars+'\\n'\n",
    "print(stars)"
   ]
  },
  {
   "cell_type": "code",
   "execution_count": 142,
   "id": "8fb6e725-f5e5-4c18-8183-3e6d832bc82c",
   "metadata": {},
   "outputs": [
    {
     "name": "stdout",
     "output_type": "stream",
     "text": [
      "    *\n",
      "   ***\n",
      "  *****\n",
      " *******\n",
      "*********\n",
      " *******\n",
      "  *****\n",
      "   ***\n",
      "    *\n"
     ]
    }
   ],
   "source": [
    "for i in range(9):\n",
    "    if i < 5:\n",
    "        stars = 2 * i + 1\n",
    "    else:\n",
    "        stars = 2 * (8 - i) + 1\n",
    "    spaces = (9 - stars) // 2\n",
    "    print(\" \" * spaces + \"*\" * stars)"
   ]
  },
  {
   "cell_type": "code",
   "execution_count": 58,
   "id": "2ae0b8d4-0dce-4f7d-a409-2a10db147ce3",
   "metadata": {},
   "outputs": [
    {
     "name": "stdout",
     "output_type": "stream",
     "text": [
      "*****\n",
      "****\n",
      "***\n",
      "**\n",
      "*\n",
      "**\n",
      "***\n",
      "****\n",
      "*****\n"
     ]
    }
   ],
   "source": [
    "for i in range(5, 0, -1):\n",
    "    print(\"*\" * i)\n",
    "\n",
    "# Segitiga menaik\n",
    "for i in range(2, 6):\n",
    "    print(\"*\" * i)"
   ]
  }
 ],
 "metadata": {
  "kernelspec": {
   "display_name": "Python 3 (ipykernel)",
   "language": "python",
   "name": "python3"
  },
  "language_info": {
   "codemirror_mode": {
    "name": "ipython",
    "version": 3
   },
   "file_extension": ".py",
   "mimetype": "text/x-python",
   "name": "python",
   "nbconvert_exporter": "python",
   "pygments_lexer": "ipython3",
   "version": "3.12.10"
  }
 },
 "nbformat": 4,
 "nbformat_minor": 5
}
