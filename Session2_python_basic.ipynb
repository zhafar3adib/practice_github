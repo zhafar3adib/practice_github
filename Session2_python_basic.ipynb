{
 "cells": [
  {
   "cell_type": "code",
   "execution_count": 1,
   "id": "1d402bc4-67d4-4e09-a5ed-bdc23dc65e15",
   "metadata": {},
   "outputs": [],
   "source": [
    "nama = 'zhafar'\n",
    "umur = 25"
   ]
  },
  {
   "cell_type": "code",
   "execution_count": 2,
   "id": "b63de3c6-c293-4790-ba62-d81f6e39c295",
   "metadata": {},
   "outputs": [
    {
     "data": {
      "text/plain": [
       "25"
      ]
     },
     "execution_count": 2,
     "metadata": {},
     "output_type": "execute_result"
    }
   ],
   "source": [
    "umur"
   ]
  },
  {
   "cell_type": "code",
   "execution_count": 3,
   "id": "9dca19c9-941e-46a3-bda1-444bcdbc5fc9",
   "metadata": {},
   "outputs": [],
   "source": [
    "from datetime import datetime"
   ]
  },
  {
   "cell_type": "code",
   "execution_count": 4,
   "id": "21d79e90-333d-4c9f-bc6f-292e8791949e",
   "metadata": {},
   "outputs": [],
   "source": [
    "import time"
   ]
  },
  {
   "cell_type": "code",
   "execution_count": 5,
   "id": "8085e018-a85d-406e-9210-f9834b2004ae",
   "metadata": {},
   "outputs": [],
   "source": [
    "import math"
   ]
  },
  {
   "cell_type": "code",
   "execution_count": 6,
   "id": "4380f920-85d7-4997-b65f-69e691a4afdf",
   "metadata": {},
   "outputs": [],
   "source": [
    "start = time.time()"
   ]
  },
  {
   "cell_type": "code",
   "execution_count": 7,
   "id": "e91446b2-c4ef-404f-b752-cc139179ca54",
   "metadata": {},
   "outputs": [
    {
     "data": {
      "text/plain": [
       "0.007027864456176758"
      ]
     },
     "execution_count": 7,
     "metadata": {},
     "output_type": "execute_result"
    }
   ],
   "source": [
    "end = time.time()\n",
    "end - start"
   ]
  },
  {
   "cell_type": "code",
   "execution_count": 8,
   "id": "4ad0fcd6-2077-498d-8df0-6fe013f01db9",
   "metadata": {},
   "outputs": [
    {
     "data": {
      "text/plain": [
       "str"
      ]
     },
     "execution_count": 8,
     "metadata": {},
     "output_type": "execute_result"
    }
   ],
   "source": [
    "type(nama)"
   ]
  },
  {
   "cell_type": "code",
   "execution_count": 9,
   "id": "aaf50d54-8760-4ec7-96fc-3fa6828fd101",
   "metadata": {},
   "outputs": [
    {
     "data": {
      "text/plain": [
       "200000000000000.0"
      ]
     },
     "execution_count": 9,
     "metadata": {},
     "output_type": "execute_result"
    }
   ],
   "source": [
    "scientific = 2e14\n",
    "##2 dikali 10pangkat14\n",
    "scientific"
   ]
  },
  {
   "cell_type": "code",
   "execution_count": 10,
   "id": "5c267e2b-6cfc-4075-8da3-80be53dddc82",
   "metadata": {},
   "outputs": [
    {
     "data": {
      "text/plain": [
       "35"
      ]
     },
     "execution_count": 10,
     "metadata": {},
     "output_type": "execute_result"
    }
   ],
   "source": [
    "umur += 10 #langsung ke apply ke variabel\n",
    "umur"
   ]
  },
  {
   "cell_type": "code",
   "execution_count": 11,
   "id": "cb9e96af-7253-4583-80f3-f66578c236d5",
   "metadata": {},
   "outputs": [
    {
     "data": {
      "text/plain": [
       "3.141592653589793"
      ]
     },
     "execution_count": 11,
     "metadata": {},
     "output_type": "execute_result"
    }
   ],
   "source": [
    "lingkaran = math.pi\n",
    "lingkaran"
   ]
  },
  {
   "cell_type": "code",
   "execution_count": 12,
   "id": "e8461bee-3138-4350-bfbc-ae03f09fd446",
   "metadata": {},
   "outputs": [
    {
     "data": {
      "text/plain": [
       "\"suud'zon\""
      ]
     },
     "execution_count": 12,
     "metadata": {},
     "output_type": "execute_result"
    }
   ],
   "source": [
    "text2 = \"\"\"suud'zon\"\"\"\n",
    "text2"
   ]
  },
  {
   "cell_type": "code",
   "execution_count": 13,
   "id": "32a41218-1475-4816-b700-e021be188fe7",
   "metadata": {},
   "outputs": [
    {
     "data": {
      "text/plain": [
       "6"
      ]
     },
     "execution_count": 13,
     "metadata": {},
     "output_type": "execute_result"
    }
   ],
   "source": [
    "len(nama)"
   ]
  },
  {
   "cell_type": "code",
   "execution_count": 14,
   "id": "2fd53f84-207b-4bd2-94b4-7f73f9e47034",
   "metadata": {},
   "outputs": [
    {
     "data": {
      "text/plain": [
       "'tercantik yang datang di hari ini'"
      ]
     },
     "execution_count": 14,
     "metadata": {},
     "output_type": "execute_result"
    }
   ],
   "source": [
    "text3 = 'ku menanti seorang kekasih, yang tercantik yang datang di hari ini'\n",
    "text3[text3.index('tercantik'):]"
   ]
  },
  {
   "cell_type": "code",
   "execution_count": 15,
   "id": "d88d1eaf-e1b2-49e6-99b6-b18f702e1205",
   "metadata": {},
   "outputs": [
    {
     "data": {
      "text/plain": [
       "True"
      ]
     },
     "execution_count": 15,
     "metadata": {},
     "output_type": "execute_result"
    }
   ],
   "source": [
    "cek = 'kekasih' in text3\n",
    "cek"
   ]
  },
  {
   "cell_type": "code",
   "execution_count": 16,
   "id": "f9088296-b97b-4614-97be-f16a29f5b820",
   "metadata": {},
   "outputs": [
    {
     "data": {
      "text/plain": [
       "True"
      ]
     },
     "execution_count": 16,
     "metadata": {},
     "output_type": "execute_result"
    }
   ],
   "source": [
    "cek = 'KEKASIH' in text3.upper()\n",
    "cek"
   ]
  },
  {
   "cell_type": "code",
   "execution_count": 17,
   "id": "bf6b4eec-8a52-4491-a4d9-ab5e38037bea",
   "metadata": {},
   "outputs": [
    {
     "data": {
      "text/plain": [
       "'nama saya zhafar, berumur 35'"
      ]
     },
     "execution_count": 17,
     "metadata": {},
     "output_type": "execute_result"
    }
   ],
   "source": [
    "contoh_string_format = \"nama saya {name}, berumur {age}\"\n",
    "contoh_string_format.format(name = nama, age = umur) ##sebelah kiri dari tanda sama dengan adalah penanda, sebelah kanan adalah variabel"
   ]
  },
  {
   "cell_type": "code",
   "execution_count": 18,
   "id": "efa3edad-595e-451d-8a10-2106f4d697f6",
   "metadata": {},
   "outputs": [
    {
     "data": {
      "text/plain": [
       "'nama saya zhafar, berumur 35'"
      ]
     },
     "execution_count": 18,
     "metadata": {},
     "output_type": "execute_result"
    }
   ],
   "source": [
    "f\"nama saya {nama}, berumur {umur}\""
   ]
  },
  {
   "cell_type": "code",
   "execution_count": 19,
   "id": "2638efa5-bf74-433a-bb49-9c8f92501de7",
   "metadata": {},
   "outputs": [],
   "source": [
    "# username = input(\"plaese insert username:\") ##type data akan berupa string\n",
    "# print(username)"
   ]
  },
  {
   "cell_type": "code",
   "execution_count": 20,
   "id": "a96b9a53-890b-4cd2-aaf4-886862ada4e1",
   "metadata": {},
   "outputs": [],
   "source": [
    "##SOAL"
   ]
  },
  {
   "cell_type": "code",
   "execution_count": 21,
   "id": "0e8f11e6-9d58-4783-98a3-d440a83b8aad",
   "metadata": {},
   "outputs": [
    {
     "data": {
      "text/plain": [
       "0.6944444444444445"
      ]
     },
     "execution_count": 21,
     "metadata": {},
     "output_type": "execute_result"
    }
   ],
   "source": [
    "x = 4\n",
    "y = 3\n",
    "z = 2\n",
    "w = ((x+y*z)/(x*y))**z\n",
    "w"
   ]
  },
  {
   "cell_type": "code",
   "execution_count": 22,
   "id": "b0a52b17-7bab-408f-8439-b9cc4b1f084d",
   "metadata": {},
   "outputs": [],
   "source": [
    "# angka = input(\"masukan angka:\")\n",
    "# angka = int(angka)**2\n",
    "# print(angka)"
   ]
  },
  {
   "cell_type": "code",
   "execution_count": 23,
   "id": "be1a62bf-932b-4b69-b40b-38b2d6b5409b",
   "metadata": {},
   "outputs": [
    {
     "name": "stdout",
     "output_type": "stream",
     "text": [
      "485 hari sama dengan 1 tahun, 4 bulan, 0 minggu, dan 5 hari\n"
     ]
    }
   ],
   "source": [
    "hari = 485\n",
    "tahun = hari//360\n",
    "bulan = (485-(tahun*360))//30\n",
    "minggu = (485-(tahun*360)-(bulan*30))//7\n",
    "sisa_hari = (485-(tahun*360)-(bulan*30)-(minggu*7))\n",
    "print(f'{hari} hari sama dengan {tahun} tahun, {bulan} bulan, {minggu} minggu, dan {sisa_hari} hari')"
   ]
  },
  {
   "cell_type": "code",
   "execution_count": 24,
   "id": "802a8f32-e48b-4ff9-89df-d8e6fed2983e",
   "metadata": {},
   "outputs": [
    {
     "name": "stdout",
     "output_type": "stream",
     "text": [
      "umur andi:22 \n",
      "umur budi:31\n"
     ]
    }
   ],
   "source": [
    "#andi + budi = 49\n",
    "#andi = 0.4\n",
    "#budi = 0.6\n",
    "andi = round(40/100*49)+2\n",
    "budi = round(60/100*49)+2\n",
    "print(f'umur andi:{andi} \\numur budi:{budi}')"
   ]
  },
  {
   "cell_type": "code",
   "execution_count": 25,
   "id": "c796ebdc-f4c1-4083-ad19-b7bc5a3847bb",
   "metadata": {},
   "outputs": [
    {
     "name": "stdout",
     "output_type": "stream",
     "text": [
      "apabila berangkat pukul 9, maka akan bertabrakan jam 10.12\n"
     ]
    }
   ],
   "source": [
    "mobila = 60\n",
    "mobilb = 40\n",
    "jarak = 120\n",
    "berangkat = 9\n",
    "perjalanan = jarak/(mobila+mobilb)\n",
    "tabrakan = berangkat+perjalanan\n",
    "tabrakan_jam = math.floor(tabrakan)\n",
    "tabrakan_menit = round((tabrakan - tabrakan_jam)*60)\n",
    "print(f'apabila berangkat pukul {berangkat}, maka akan bertabrakan jam {tabrakan_jam}.{tabrakan_menit}')"
   ]
  },
  {
   "cell_type": "code",
   "execution_count": 26,
   "id": "53f1b20e-b081-4c0b-8b36-b3d290bfe322",
   "metadata": {},
   "outputs": [
    {
     "name": "stdin",
     "output_type": "stream",
     "text": [
      "masukan jumlah apel: 3\n",
      "masukan jumlah jeruk: 2\n",
      "masukan jumlah anggur: 5\n",
      "masukan jumlah pembayaran: 200000\n"
     ]
    },
    {
     "name": "stdout",
     "output_type": "stream",
     "text": [
      "total belanja sebesar 160000\n",
      "terima kasih, uang kembalian sebesar 40000\n"
     ]
    }
   ],
   "source": [
    "apel = int(input(\"masukan jumlah apel:\"))*10_000\n",
    "jeruk = int(input(\"masukan jumlah jeruk:\"))*15_000\n",
    "anggur = int(input(\"masukan jumlah anggur:\"))*20_000\n",
    "total = apel+jeruk+anggur\n",
    "bayar = int(input(\"masukan jumlah pembayaran:\"))\n",
    "if bayar < total:\n",
    "    kurang = total-bayar\n",
    "    print(f'total belanja sebesar {total}\\ntransaksi dibatalkan karena uang kurang sebesar {kurang}')\n",
    "elif bayar > total:\n",
    "    lebih = bayar-total\n",
    "    print(f'total belanja sebesar {total}\\nterima kasih, uang kembalian sebesar {lebih}')\n",
    "elif bayar == total:\n",
    "    print(f'total belanja sebesar {total}\\nterima kasih')\n",
    "# print(total)"
   ]
  },
  {
   "cell_type": "code",
   "execution_count": 27,
   "id": "38056f6a-8d91-441a-9194-74a5197f312c",
   "metadata": {},
   "outputs": [
    {
     "name": "stdout",
     "output_type": "stream",
     "text": [
      "5 adalah bilangan ganjil\n"
     ]
    }
   ],
   "source": [
    "angka = 5\n",
    "if angka %2 == 0:\n",
    "    print(f'{angka} adalah bilangan genap')\n",
    "else:\n",
    "    print(f'{angka} adalah bilangan ganjil')"
   ]
  },
  {
   "cell_type": "code",
   "execution_count": 29,
   "id": "bfc739b0-6c85-445c-86ba-7470b332c799",
   "metadata": {},
   "outputs": [
    {
     "name": "stdin",
     "output_type": "stream",
     "text": [
      "masukan berat badan (kg): 85\n",
      "masukan tinggi (cm): 169\n"
     ]
    },
    {
     "name": "stdout",
     "output_type": "stream",
     "text": [
      "imt = 29.76086271489094, artinya berat badan lebih\n"
     ]
    }
   ],
   "source": [
    "massa = int(input(\"masukan berat badan (kg):\"))\n",
    "tinggi = math.pow(int(input(\"masukan tinggi (cm):\"))/100,2)\n",
    "imt = massa/tinggi\n",
    "if imt >39.9:\n",
    "    print(f'imt = {imt}, artinya obesitas')\n",
    "elif imt >=30:\n",
    "    print(f'imt = {imt}, artinya berat badan sangat berlebih')\n",
    "elif imt >=25:\n",
    "    print(f'imt = {imt}, artinya berat badan lebih')\n",
    "elif imt >=18.5:\n",
    "    print(f'imt = {imt}, artinya berat badan ideal')\n",
    "else:\n",
    "    print(f'imt = {imt}, artinya berat badan kurang')"
   ]
  }
 ],
 "metadata": {
  "kernelspec": {
   "display_name": "Python 3 (ipykernel)",
   "language": "python",
   "name": "python3"
  },
  "language_info": {
   "codemirror_mode": {
    "name": "ipython",
    "version": 3
   },
   "file_extension": ".py",
   "mimetype": "text/x-python",
   "name": "python",
   "nbconvert_exporter": "python",
   "pygments_lexer": "ipython3",
   "version": "3.12.10"
  }
 },
 "nbformat": 4,
 "nbformat_minor": 5
}
