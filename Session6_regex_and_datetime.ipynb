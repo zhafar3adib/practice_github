{
 "cells": [
  {
   "cell_type": "markdown",
   "id": "2ad4a63d",
   "metadata": {},
   "source": []
  },
  {
   "cell_type": "code",
   "execution_count": 22,
   "id": "554d4971",
   "metadata": {},
   "outputs": [],
   "source": [
    "from datetime import datetime \n",
    "from datetime import timedelta  \n",
    "from datetime import timezone\n",
    "from datetime import tzinfo\n",
    "from datetime import date\n",
    "import re\n",
    "import pytz"
   ]
  },
  {
   "cell_type": "code",
   "execution_count": 2,
   "id": "f0b0d327",
   "metadata": {},
   "outputs": [
    {
     "name": "stdout",
     "output_type": "stream",
     "text": [
      "[0, 2, 4, 6, 8, 10, 12, 14, 16, 18, 20, 22, 24, 26, 28, 30, 32, 34, 36, 38, 40, 42, 44, 46, 48, 50, 52, 54, 56, 58, 60, 62, 64, 66, 68, 70, 72, 74, 76, 78, 80, 82, 84, 86, 88, 90, 92, 94, 96, 98, 100, 102, 104, 106, 108, 110, 112, 114, 116, 118, 120, 122, 124, 126, 128, 130, 132, 134, 136, 138, 140, 142, 144, 146, 148, 150, 152, 154, 156, 158, 160, 162, 164, 166, 168, 170, 172, 174, 176, 178, 180, 182, 184, 186, 188, 190, 192, 194, 196, 198]\n"
     ]
    }
   ],
   "source": [
    "data_new = [i for i in range(200) if i % 2 == 0] \n",
    "print(data_new)"
   ]
  },
  {
   "cell_type": "code",
   "execution_count": 11,
   "id": "26bd321a",
   "metadata": {},
   "outputs": [
    {
     "data": {
      "text/plain": [
       "datetime.datetime(2025, 5, 28, 20, 22, 5, 304508)"
      ]
     },
     "execution_count": 11,
     "metadata": {},
     "output_type": "execute_result"
    }
   ],
   "source": [
    "datetime.now()"
   ]
  },
  {
   "cell_type": "code",
   "execution_count": 21,
   "id": "f53796ee",
   "metadata": {},
   "outputs": [
    {
     "data": {
      "text/plain": [
       "datetime.timedelta(days=15, seconds=1)"
      ]
     },
     "execution_count": 21,
     "metadata": {},
     "output_type": "execute_result"
    }
   ],
   "source": [
    "interval = timedelta(weeks = 2, seconds=86401)\n",
    "interval"
   ]
  },
  {
   "cell_type": "code",
   "execution_count": 24,
   "id": "4eaa8d08",
   "metadata": {},
   "outputs": [],
   "source": [
    "my_text = \"\"\" \n",
    "Subject: Weekly System Summary\n",
    "\n",
    "Hello team,\n",
    "\n",
    "Please review the following summary of activities for the week ending on 2025-05-25:\n",
    "\n",
    "1. User registrations:\n",
    "   - Name: John Smith | Email: john.smith1985@example.com | Phone: (555) 123-4567\n",
    "   - Name: Alice Johnson | Email: alice.j@example.org | Phone: 555-234-7890\n",
    "\n",
    "2. Errors reported:\n",
    "   - [ERROR 404] Resource not found at https://example.com/user/10245/profile\n",
    "   - [ERROR 500] Internal Server Error at https://api.example.com/v1/process/8754\n",
    "   - [WARNING] Low disk space on server-12.example.net\n",
    "\n",
    "3. Contact support:\n",
    "   - Email: support@example.com\n",
    "   - Phone: +1-800-555-0000\n",
    "\n",
    "4. Access logs:\n",
    "   - GET /user/10245/profile HTTP/1.1 from 192.168.1.10 at 2025-05-22T15:43:21Z\n",
    "   - POST /login HTTP/1.1 from 10.0.0.45 at 2025-05-24T08:12:09Z\n",
    "\n",
    "Please ensure all incidents are followed up by Friday, 2025-05-30.\n",
    "\n",
    "Best,  \n",
    "Admin\n",
    "\"\"\""
   ]
  },
  {
   "cell_type": "code",
   "execution_count": 25,
   "id": "29a0be76",
   "metadata": {},
   "outputs": [
    {
     "data": {
      "text/plain": [
       "['john.smith1985@example.com', 'alice.j@example.org', 'support@example.com']"
      ]
     },
     "execution_count": 25,
     "metadata": {},
     "output_type": "execute_result"
    }
   ],
   "source": [
    "re.findall(r'[\\w\\.-]+@[\\w.-]+\\.\\w+',my_text)"
   ]
  },
  {
   "cell_type": "code",
   "execution_count": 27,
   "id": "2487b518",
   "metadata": {},
   "outputs": [
    {
     "name": "stdout",
     "output_type": "stream",
     "text": [
      " \n",
      "Subject: Weekly System Summary\n",
      "\n",
      "Hello team,\n",
      "\n",
      "Please review the following summary of activities for the week ending on 2025-05-25:\n",
      "\n",
      "1. User registrations:\n",
      "   - Name: John Smith | Email: EMAIL | Phone: (555) 123-4567\n",
      "   - Name: Alice Johnson | Email: EMAIL | Phone: 555-234-7890\n",
      "\n",
      "2. Errors reported:\n",
      "   - [ERROR 404] Resource not found at https://example.com/user/10245/profile\n",
      "   - [ERROR 500] Internal Server Error at https://api.example.com/v1/process/8754\n",
      "   - [WARNING] Low disk space on server-12.example.net\n",
      "\n",
      "3. Contact support:\n",
      "   - Email: EMAIL\n",
      "   - Phone: +1-800-555-0000\n",
      "\n",
      "4. Access logs:\n",
      "   - GET /user/10245/profile HTTP/1.1 from 192.168.1.10 at 2025-05-22T15:43:21Z\n",
      "   - POST /login HTTP/1.1 from 10.0.0.45 at 2025-05-24T08:12:09Z\n",
      "\n",
      "Please ensure all incidents are followed up by Friday, 2025-05-30.\n",
      "\n",
      "Best,  \n",
      "Admin\n",
      "\n"
     ]
    }
   ],
   "source": [
    "print(re.sub(r'[\\w\\.-]+@[\\w.-]+\\.\\w+','EMAIL',my_text))"
   ]
  }
 ],
 "metadata": {
  "kernelspec": {
   "display_name": "purwadhika-module1",
   "language": "python",
   "name": "python3"
  },
  "language_info": {
   "codemirror_mode": {
    "name": "ipython",
    "version": 3
   },
   "file_extension": ".py",
   "mimetype": "text/x-python",
   "name": "python",
   "nbconvert_exporter": "python",
   "pygments_lexer": "ipython3",
   "version": "3.12.10"
  }
 },
 "nbformat": 4,
 "nbformat_minor": 5
}
