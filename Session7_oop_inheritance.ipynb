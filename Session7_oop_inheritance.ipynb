{
 "cells": [
  {
   "cell_type": "code",
   "execution_count": 17,
   "id": "9ba4c78f",
   "metadata": {},
   "outputs": [],
   "source": [
    "def square (x):\n",
    "    return x*x"
   ]
  },
  {
   "cell_type": "code",
   "execution_count": 18,
   "id": "7ac65c8d",
   "metadata": {},
   "outputs": [],
   "source": [
    "my_func = square"
   ]
  },
  {
   "cell_type": "code",
   "execution_count": 19,
   "id": "4702f98a",
   "metadata": {},
   "outputs": [
    {
     "data": {
      "text/plain": [
       "9"
      ]
     },
     "execution_count": 19,
     "metadata": {},
     "output_type": "execute_result"
    }
   ],
   "source": [
    "my_func(3)"
   ]
  },
  {
   "cell_type": "code",
   "execution_count": 20,
   "id": "f1482264",
   "metadata": {},
   "outputs": [],
   "source": [
    "numbers = [1,2,3,4,5]\n"
   ]
  },
  {
   "cell_type": "code",
   "execution_count": 21,
   "id": "91bb95df",
   "metadata": {},
   "outputs": [],
   "source": [
    "squared_list = list(map(square, numbers)) #ada map, filter, dan reduce (hanya untuk variabel iterable)\n",
    "squared_list = list(map(lambda x: x ** 2, numbers)) #bisa juga kayak gini"
   ]
  },
  {
   "cell_type": "code",
   "execution_count": 23,
   "id": "9df8f6fc",
   "metadata": {},
   "outputs": [],
   "source": [
    "class Product: ##setiap bikin class harus ada self di setiap function dan diawali oleh __init__\n",
    "    def __init__ (self, size, color, product_type, price):\n",
    "        self.size = size\n",
    "        self.color = color\n",
    "        self.product_type = product_type\n",
    "        self.price = price\n",
    "        self.price_20 = self.add_20_percent\n",
    "\n",
    "    def __repr__ (self):\n",
    "        return f\"Product size = {self.size}, color = {self.color}, price = {self.price}\"\n",
    "\n",
    "    def add_20_percent(self):\n",
    "        return self.price + (self.price * 0.2)"
   ]
  },
  {
   "cell_type": "code",
   "execution_count": 24,
   "id": "85343239",
   "metadata": {},
   "outputs": [],
   "source": [
    "product1 = Product(\n",
    "    size = \"Medium\",\n",
    "    color = 'Blue',\n",
    "    product_type = 'Shirt',\n",
    "    price = 20\n",
    ")"
   ]
  },
  {
   "cell_type": "code",
   "execution_count": 25,
   "id": "d8283f30",
   "metadata": {},
   "outputs": [
    {
     "data": {
      "text/plain": [
       "__main__.Product"
      ]
     },
     "execution_count": 25,
     "metadata": {},
     "output_type": "execute_result"
    }
   ],
   "source": [
    "type(product1)"
   ]
  },
  {
   "cell_type": "code",
   "execution_count": 26,
   "id": "4f371202",
   "metadata": {},
   "outputs": [
    {
     "data": {
      "text/plain": [
       "'Product size = Medium, color = Blue, price = 20'"
      ]
     },
     "execution_count": 26,
     "metadata": {},
     "output_type": "execute_result"
    }
   ],
   "source": [
    "product1.__repr__()"
   ]
  },
  {
   "cell_type": "code",
   "execution_count": 27,
   "id": "9c137b81",
   "metadata": {},
   "outputs": [
    {
     "data": {
      "text/plain": [
       "24.0"
      ]
     },
     "execution_count": 27,
     "metadata": {},
     "output_type": "execute_result"
    }
   ],
   "source": [
    "product1.add_20_percent()"
   ]
  },
  {
   "cell_type": "code",
   "execution_count": 28,
   "id": "e26fb2e3",
   "metadata": {},
   "outputs": [
    {
     "data": {
      "text/plain": [
       "24.0"
      ]
     },
     "execution_count": 28,
     "metadata": {},
     "output_type": "execute_result"
    }
   ],
   "source": [
    "product1.price_20()"
   ]
  },
  {
   "cell_type": "code",
   "execution_count": 69,
   "id": "ab1ed9aa",
   "metadata": {},
   "outputs": [],
   "source": [
    "class Animal : ##Parent Class / Base Class\n",
    "    def __init__ (self, name):\n",
    "        self.name = name\n",
    "\n",
    "    def speak (self):\n",
    "        return f'{self.name} makes a sound'"
   ]
  },
  {
   "cell_type": "code",
   "execution_count": 70,
   "id": "2ce0e8ab",
   "metadata": {},
   "outputs": [],
   "source": [
    "class Dog(Animal): #Child Class / Delivered Class\n",
    "    def __init__ (self, name, breed):\n",
    "        super().__init__(name) #untuk mewarisi __init__ dari parent class dan ditambah argumen lain dan sudah mewarisi fungsi speak\n",
    "        self.breed = breed\n",
    "\n",
    "    def speak(self):\n",
    "        return f'{self.name} mengonggong'"
   ]
  },
  {
   "cell_type": "code",
   "execution_count": 71,
   "id": "f46c868e",
   "metadata": {},
   "outputs": [],
   "source": [
    "class Bird(Animal):\n",
    "    def tweet (self):\n",
    "        return f'{self.name} tweets' #mewarisi __init__ dan speak tapi ada fungsi baru yaitu tweet\n",
    "\n",
    "    def speak(self):\n",
    "        return f'{self.name} bercuit'"
   ]
  },
  {
   "cell_type": "code",
   "execution_count": 83,
   "id": "e1c41b82",
   "metadata": {},
   "outputs": [],
   "source": [
    "def buat_suara(animal):\n",
    "    return animal.speak()"
   ]
  },
  {
   "cell_type": "code",
   "execution_count": 78,
   "id": "11a60ebf",
   "metadata": {},
   "outputs": [],
   "source": [
    "dog1 = Dog('anjing','kampung')\n",
    "bird1 = Bird('perkutut')"
   ]
  },
  {
   "cell_type": "code",
   "execution_count": 86,
   "id": "0c7e3c16",
   "metadata": {},
   "outputs": [
    {
     "name": "stdout",
     "output_type": "stream",
     "text": [
      "anjing mengonggong perkutut bercuit\n"
     ]
    }
   ],
   "source": [
    "print(buat_suara(dog1), buat_suara(bird1))"
   ]
  },
  {
   "cell_type": "code",
   "execution_count": 75,
   "id": "03ca7946",
   "metadata": {},
   "outputs": [
    {
     "data": {
      "text/plain": [
       "'kampung'"
      ]
     },
     "execution_count": 75,
     "metadata": {},
     "output_type": "execute_result"
    }
   ],
   "source": [
    "dog1.breed"
   ]
  },
  {
   "cell_type": "code",
   "execution_count": 81,
   "id": "f192d49e",
   "metadata": {},
   "outputs": [
    {
     "data": {
      "text/plain": [
       "'perkutut bercuit'"
      ]
     },
     "execution_count": 81,
     "metadata": {},
     "output_type": "execute_result"
    }
   ],
   "source": [
    "bird1.speak()"
   ]
  },
  {
   "cell_type": "markdown",
   "id": "d62a4cad",
   "metadata": {},
   "source": [
    "ada namanya Inner Class, jadi ada Class di dalam Class. nanti aja ditambahinnya\n",
    "sama contoh override function di dalam Class, sekalian sama Polymorphism\n"
   ]
  },
  {
   "cell_type": "code",
   "execution_count": 33,
   "id": "a7ba653b",
   "metadata": {},
   "outputs": [],
   "source": [
    "from abc import ABC, abstractmethod"
   ]
  }
 ],
 "metadata": {
  "kernelspec": {
   "display_name": "purwadhika-module1",
   "language": "python",
   "name": "python3"
  },
  "language_info": {
   "codemirror_mode": {
    "name": "ipython",
    "version": 3
   },
   "file_extension": ".py",
   "mimetype": "text/x-python",
   "name": "python",
   "nbconvert_exporter": "python",
   "pygments_lexer": "ipython3",
   "version": "3.12.10"
  }
 },
 "nbformat": 4,
 "nbformat_minor": 5
}
