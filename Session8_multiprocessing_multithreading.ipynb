{
 "cells": [
  {
   "cell_type": "code",
   "execution_count": 1,
   "id": "53aab3fc",
   "metadata": {},
   "outputs": [],
   "source": [
    "from multiprocessing import Process\n",
    "import os \n",
    "import time"
   ]
  },
  {
   "cell_type": "code",
   "execution_count": 2,
   "id": "fb0b3f03",
   "metadata": {},
   "outputs": [],
   "source": [
    "def task():\n",
    "    time.sleep(1)\n",
    "    timestamp = time.time()\n",
    "\n",
    "    print(f'Worker Process ID: {os.getpid()}, cureent timestamp {timestamp}')"
   ]
  },
  {
   "cell_type": "code",
   "execution_count": 4,
   "id": "8d51c1df",
   "metadata": {},
   "outputs": [
    {
     "name": "stdout",
     "output_type": "stream",
     "text": [
      "== Running using loop\n",
      "Worker Process ID: 15864, cureent timestamp 1748956475.4943159\n",
      "Worker Process ID: 15864, cureent timestamp 1748956476.4951768\n",
      "Worker Process ID: 15864, cureent timestamp 1748956477.4958572\n",
      "Worker Process ID: 15864, cureent timestamp 1748956478.4967782\n",
      "Worker Process ID: 15864, cureent timestamp 1748956479.497357\n",
      "== Running using multiprocessing\n"
     ]
    }
   ],
   "source": [
    "if __name__ == '__main__':\n",
    "    print('== Running using loop')\n",
    "    for _ in range(5):\n",
    "        task()\n",
    "\n",
    "    print('== Running using multiprocessing')\n",
    "    processes = []\n",
    "    for _ in range(5):\n",
    "        p = Process(target=task)\n",
    "        processes.append(p)\n",
    "        p.start()\n",
    "\n",
    "    for p in processes:\n",
    "        p.join() #hasil gak keluar karena pake notebook, pake python bisa"
   ]
  },
  {
   "cell_type": "code",
   "execution_count": 5,
   "id": "45b04465",
   "metadata": {},
   "outputs": [],
   "source": [
    "import threading"
   ]
  },
  {
   "cell_type": "code",
   "execution_count": 6,
   "id": "d309a090",
   "metadata": {},
   "outputs": [
    {
     "name": "stdout",
     "output_type": "stream",
     "text": [
      "Main Process ID: 15864\n",
      "==Running using loop\n",
      "Thread ID: 2568,\n",
      "    Process ID: 15864,\n",
      "    Timestamp : 1748956492.6089723\n",
      "Thread ID: 2568,\n",
      "    Process ID: 15864,\n",
      "    Timestamp : 1748956493.609645\n",
      "Thread ID: 2568,\n",
      "    Process ID: 15864,\n",
      "    Timestamp : 1748956494.6103058\n",
      "Thread ID: 2568,\n",
      "    Process ID: 15864,\n",
      "    Timestamp : 1748956495.61182\n",
      "Thread ID: 2568,\n",
      "    Process ID: 15864,\n",
      "    Timestamp : 1748956496.6141117\n",
      "==Running using threading\n",
      "Thread ID: 15096,\n",
      "    Process ID: 15864,\n",
      "    Timestamp : 1748956497.6156774\n",
      "Thread ID: 14612,\n",
      "    Process ID: 15864,\n",
      "    Timestamp : 1748956497.6171896\n",
      "Thread ID: 24156,\n",
      "    Process ID: 15864,\n",
      "    Timestamp : 1748956497.6171896\n",
      "Thread ID: 20084,\n",
      "    Process ID: 15864,\n",
      "    Timestamp : 1748956497.6171896\n",
      "Thread ID: 2256,\n",
      "    Process ID: 15864,\n",
      "    Timestamp : 1748956497.6171896\n"
     ]
    }
   ],
   "source": [
    "def worker(): ##io_bound, fungsinya ada delay untuk nunggu, biasanya request data pake API, untuk contoh pake time.sleep()\n",
    "    time.sleep(1)\n",
    "    timestamp = time.time()\n",
    "\n",
    "    print(f\"\"\"Thread ID: {threading.get_ident()},\n",
    "    Process ID: {os.getpid()},\n",
    "    Timestamp : {timestamp}\"\"\")\n",
    "\n",
    "if __name__ == \"__main__\":\n",
    "    print(f\"Main Process ID: {os.getpid()}\")\n",
    "\n",
    "    print('==Running using loop')\n",
    "    for _ in range(5):\n",
    "        worker()\n",
    "\n",
    "    print('==Running using threading')\n",
    "    threads = []\n",
    "    for i in range(5):\n",
    "        thread = threading.Thread(target=worker)\n",
    "        threads.append(thread)\n",
    "        thread.start()\n",
    "\n",
    "    for thread in threads:\n",
    "        thread.join()"
   ]
  },
  {
   "cell_type": "code",
   "execution_count": 7,
   "id": "824edfd0",
   "metadata": {},
   "outputs": [],
   "source": [
    "data = None\n",
    "condition = threading.Condition()"
   ]
  },
  {
   "cell_type": "code",
   "execution_count": 11,
   "id": "6f747ce0",
   "metadata": {},
   "outputs": [],
   "source": [
    "import random"
   ]
  },
  {
   "cell_type": "code",
   "execution_count": 8,
   "id": "ff7ba3d5",
   "metadata": {},
   "outputs": [],
   "source": [
    "def producer():\n",
    "    global data\n",
    "    while True:\n",
    "        with condition:\n",
    "\n",
    "            data=random.randint(1,100)\n",
    "            print(f'produced data: {data}')\n",
    "\n",
    "            condition.notify()\n",
    "        time.sleep(random.uniform(0.5,2))"
   ]
  },
  {
   "cell_type": "code",
   "execution_count": 9,
   "id": "fe03e0d2",
   "metadata": {},
   "outputs": [],
   "source": [
    "def consumer():\n",
    "    global data\n",
    "    while True:\n",
    "        with conditon:\n",
    "            condition.wait()\n",
    "            print(f'consumed data: {data}')\n",
    "            data = None\n",
    "        time.sleep(random.uniform(0.5,1))"
   ]
  },
  {
   "cell_type": "code",
   "execution_count": null,
   "id": "f215da76",
   "metadata": {},
   "outputs": [
    {
     "name": "stderr",
     "output_type": "stream",
     "text": [
      "Exception in thread Thread-75 (consumer):\n",
      "Traceback (most recent call last):\n",
      "  File \"c:\\Users\\KLAMBY\\miniforge3\\envs\\purwadhika-module1\\Lib\\threading.py\", line 1075, in _bootstrap_inner\n",
      "    self.run()\n",
      "  File \"c:\\Users\\KLAMBY\\miniforge3\\envs\\purwadhika-module1\\Lib\\site-packages\\ipykernel\\ipkernel.py\", line 766, in run_closure\n",
      "    _threading_Thread_run(self)\n",
      "  File \"c:\\Users\\KLAMBY\\miniforge3\\envs\\purwadhika-module1\\Lib\\threading.py\", line 1012, in run\n",
      "    self._target(*self._args, **self._kwargs)\n",
      "  File \"C:\\Users\\KLAMBY\\AppData\\Local\\Temp\\ipykernel_15864\\944655660.py\", line 4, in consumer\n",
      "NameError: name 'conditon' is not defined. Did you mean: 'condition'?\n"
     ]
    },
    {
     "name": "stdout",
     "output_type": "stream",
     "text": [
      "produced data: 24\n",
      "produced data: 14\n",
      "produced data: 93\n",
      "produced data: 51\n",
      "produced data: 67\n",
      "produced data: 65\n",
      "produced data: 87\n",
      "produced data: 46\n",
      "produced data: 5\n",
      "produced data: 18\n",
      "produced data: 88\n",
      "produced data: 10\n",
      "produced data: 22\n",
      "produced data: 98\n",
      "produced data: 68\n",
      "produced data: 24\n",
      "produced data: 64\n",
      "produced data: 24\n",
      "produced data: 15\n",
      "produced data: 82\n",
      "produced data: 19\n",
      "produced data: 56\n",
      "produced data: 86\n",
      "produced data: 92\n",
      "produced data: 86\n",
      "produced data: 32\n",
      "produced data: 72\n"
     ]
    }
   ],
   "source": [
    "# if __name__ == '__main__':\n",
    "#     producer_thread = threading.Thread(target=producer)\n",
    "#     consumer_thread = threading.Thread(target=consumer)\n",
    "\n",
    "#     consumer_thread.start()\n",
    "#     producer_thread.start()\n",
    "    \n",
    "#     consumer_thread.join()\n",
    "#     producer_thread.join()\n",
    "    "
   ]
  }
 ],
 "metadata": {
  "kernelspec": {
   "display_name": "purwadhika-module1",
   "language": "python",
   "name": "python3"
  },
  "language_info": {
   "codemirror_mode": {
    "name": "ipython",
    "version": 3
   },
   "file_extension": ".py",
   "mimetype": "text/x-python",
   "name": "python",
   "nbconvert_exporter": "python",
   "pygments_lexer": "ipython3",
   "version": "3.12.10"
  }
 },
 "nbformat": 4,
 "nbformat_minor": 5
}
